{
 "cells": [
  {
   "cell_type": "markdown",
   "metadata": {},
   "source": [
    "# Homework\n",
    "\n",
    "Apply `BatchNorm`, `Dropout` and `Residual` on MLP networks for CIFAR-10 classification.\n",
    "\n",
    "For BatchNorm and Dropout, design models with `BatchNorm Layer`, `Dropout Layer` and both the layers. Compare the results with a plain MLP, and with each other.\n",
    "\n",
    "For Residual, design a simple `Redisual Block` based on a deeper MLP. Compare the results and see whether adding residual works.\n",
    "\n",
    "Follow the pipeline in your Homework 1 to finish model designing, training and testing.\n",
    "\n",
    "### Step 1: Load Dataset"
   ]
  },
  {
   "cell_type": "code",
   "execution_count": null,
   "metadata": {},
   "outputs": [],
   "source": [
    "import torch\n",
    "import torchvision\n",
    "import torchvision.transforms as transforms\n",
    "import matplotlib.pyplot as plt\n",
    "import numpy as np\n",
    "import torch.optim as optim\n",
    "\n",
    "# 设置 matplotlib 显示格式\n",
    "%matplotlib inline\n",
    "plt.rcParams['figure.figsize'] = (10.0, 8.0)  # 设置默认图像大小\n",
    "plt.rcParams['image.interpolation'] = 'nearest'\n",
    "plt.rcParams['image.cmap'] = 'gray'\n",
    "\n",
    "# CIFAR-10 数据集的下载和加载\n",
    "transform = transforms.Compose(\n",
    "    [transforms.ToTensor(),  # 转换为 Tensor\n",
    "     transforms.Normalize((0.5, 0.5, 0.5), (0.5, 0.5, 0.5))]  # 归一化\n",
    ")"
   ]
  },
  {
   "cell_type": "code",
   "execution_count": 23,
   "metadata": {},
   "outputs": [
    {
     "name": "stdout",
     "output_type": "stream",
     "text": [
      "Files already downloaded and verified\n",
      "Files already downloaded and verified\n"
     ]
    }
   ],
   "source": [
    "from torch.utils.data import Dataset, DataLoader\n",
    "trainset = torchvision.datasets.CIFAR10(root='./data', train=True,\n",
    "                                        download=True, transform=transform)\n",
    "\n",
    "testset = torchvision.datasets.CIFAR10(root='./data', train=False,\n",
    "                                       download=True, transform=transform)\n",
    "class OursDatasetwithTransforms(Dataset):\n",
    "    def __init__(self, data, labels, transforms):\n",
    "        \"\"\"\n",
    "        初始化数据集\n",
    "        data: 输入数据，例如一个 NumPy 数组或 PyTorch 张量\n",
    "        labels: 对应的标签\n",
    "        \"\"\"\n",
    "        self.data = data\n",
    "        self.labels = labels\n",
    "        self.transforms = transforms\n",
    "\n",
    "    def __len__(self):\n",
    "        # 每个Dataset都必须写，返回数据集的大小\n",
    "        return len(self.data)\n",
    "\n",
    "    def __getitem__(self, idx):\n",
    "        # 每个Dataset都必须写，获取指定索引idx的数据和标签\n",
    "        sample = self.data[idx]\n",
    "        label = self.labels[idx]\n",
    "        sample = self.transforms(sample)\n",
    "        return torch.tensor(sample, dtype=torch.float32), torch.tensor(label, dtype=torch.long)\n",
    "        \n",
    "transform = transforms.Compose(\n",
    "    [transforms.ToTensor(),  # [0, 255], PIL Image / ndarray --> [0, 1], torch.tensor\n",
    "     transforms.Normalize((0.5, 0.5, 0.5), (0.5, 0.5, 0.5))]  # 归一化, (input[channel] - mean[channel]) / std[channel]\n",
    ")\n",
    "traindata = trainset.data[:5000]\n",
    "trainlabels = trainset.targets[:5000]\n",
    "testdata = testset.data[:500]\n",
    "testlabels = testset.targets[:500]\n",
    "\n",
    "# 初始化自定义数据集\n",
    "trainset = OursDatasetwithTransforms(traindata, trainlabels, transform)\n",
    "testset = OursDatasetwithTransforms(testdata, testlabels, transform)\n",
    "trainloader = DataLoader(trainset, batch_size=256, shuffle=False, drop_last=False)\n",
    "testloader = DataLoader(testset, batch_size=256, shuffle=False, drop_last=False)"
   ]
  },
  {
   "cell_type": "code",
   "execution_count": 24,
   "metadata": {},
   "outputs": [],
   "source": [
    "# Helper functions for plotting the loss values\n",
    "from typing import List\n",
    "def plot_loss(num_epochs: int, train_losses: List, test_losses: List) -> None:\n",
    "    plt.figure(figsize=(10, 5))\n",
    "    plt.plot(range(1, num_epochs + 1), train_losses, label='Training Loss', marker='o')\n",
    "    plt.plot(range(1, num_epochs + 1), test_losses, label='Testing Loss', marker='x')\n",
    "    plt.title('Training and Testing Loss over Epochs')\n",
    "    plt.xlabel('Epochs')\n",
    "    plt.ylabel('Loss')\n",
    "    plt.legend()\n",
    "    plt.grid()\n",
    "    plt.show()"
   ]
  },
  {
   "cell_type": "markdown",
   "metadata": {},
   "source": [
    "### Step 2: Design a 3-Layer MLP with BatchNorm and Dropout"
   ]
  },
  {
   "cell_type": "code",
   "execution_count": 25,
   "metadata": {},
   "outputs": [],
   "source": [
    "import torch\n",
    "import torch.nn as nn\n",
    "import torch.nn.functional as F\n",
    "\n",
    "# Here is the simple version of A 3-layer MLP\n",
    "class SimpleMLP(nn.Module):\n",
    "    def __init__(self, input_size=32*32*3, hidden_size=512):\n",
    "        super(SimpleMLP, self).__init__()\n",
    "        self.fc1 = nn.Linear(input_size, hidden_size)  # For CIFAR-10, input size is 32x32x3\n",
    "        self.fc2 = nn.Linear(hidden_size, hidden_size)\n",
    "        self.fc3 = nn.Linear(hidden_size, 10)  # Output size is 10 classes for CIFAR-10\n",
    "    \n",
    "    def forward(self, x):\n",
    "        x = x.view(-1, 32 * 32 * 3)  # Flatten the image\n",
    "        x = F.relu(self.fc1(x))\n",
    "        x = F.relu(self.fc2(x))\n",
    "        x = self.fc3(x)\n",
    "        return x\n",
    "\n",
    "# Implentation of MLP with BatchNorm only\n",
    "# Use nn.BatchNorm1d\n",
    "class MLPWithBatchNorm(nn.Module):\n",
    "    def __init__(self, input_size=32*32*3, hidden_size=512):\n",
    "        # your code here\n",
    "        pass\n",
    "\n",
    "# Implentation of MLP with Dropout only \n",
    "# Use nn.Dropout\n",
    "class MLPWithDropout(nn.Module):\n",
    "    def __init__(self, input_size=32*32*3, hidden_size=512, dropout_prob=0.5):\n",
    "        # your code here\n",
    "        pass\n",
    "    \n",
    "# Implentation of MLP with both BatchNorm and Dropout  \n",
    "# Use nn.BatchNorm1d and nn.Dropout  \n",
    "class MLPWithBatchNormDropout(nn.Module):\n",
    "    def __init__(self, input_size=32*32*3, hidden_size=512, dropout_prob=0.5):\n",
    "        # your code here\n",
    "        pass\n",
    "   "
   ]
  },
  {
   "cell_type": "code",
   "execution_count": 26,
   "metadata": {},
   "outputs": [],
   "source": [
    "# Training and Testing Loop\n",
    "device = torch.device(\"cuda\" if torch.cuda.is_available() else \"cpu\")\n",
    "\n",
    "def train(model, train_loader):\n",
    "    optimizer = optim.Adam(model.parameters(), lr=0.001)\n",
    "    criterion = nn.CrossEntropyLoss()\n",
    "\n",
    "    model.train()\n",
    "    running_loss = 0.0\n",
    "    correct = 0\n",
    "    total = 0\n",
    "    for images, labels in train_loader:\n",
    "        images, labels = images.to(device), labels.to(device)\n",
    "        \n",
    "        optimizer.zero_grad()\n",
    "        outputs = model(images)\n",
    "        loss = criterion(outputs, labels)\n",
    "        loss.backward()\n",
    "        optimizer.step()\n",
    "        \n",
    "        running_loss += loss.item()\n",
    "        _, predicted = outputs.max(1)\n",
    "        total += labels.size(0)\n",
    "        correct += predicted.eq(labels).sum().item()\n",
    "    \n",
    "    train_loss = running_loss / len(train_loader)\n",
    "    train_acc = 100. * correct / total\n",
    "    return train_loss, train_acc\n",
    "\n",
    "def test(model, test_loader):\n",
    "    criterion = nn.CrossEntropyLoss()\n",
    "    \n",
    "    model.eval()\n",
    "    running_loss = 0.0\n",
    "    correct = 0\n",
    "    total = 0\n",
    "    with torch.no_grad():\n",
    "        for images, labels in test_loader:\n",
    "            images, labels = images.to(device), labels.to(device)\n",
    "            \n",
    "            outputs = model(images)\n",
    "            loss = criterion(outputs, labels)\n",
    "            running_loss += loss.item()\n",
    "            _, predicted = outputs.max(1)\n",
    "            total += labels.size(0)\n",
    "            correct += predicted.eq(labels).sum().item()\n",
    "    \n",
    "    test_loss = running_loss / len(test_loader)\n",
    "    test_acc = 100. * correct / total\n",
    "    return test_loss, test_acc"
   ]
  },
  {
   "cell_type": "markdown",
   "metadata": {},
   "source": [
    "### Step 3: Train the networks"
   ]
  },
  {
   "cell_type": "code",
   "execution_count": 27,
   "metadata": {},
   "outputs": [],
   "source": [
    "# Hyper parameters\n",
    "num_epochs = 10"
   ]
  },
  {
   "cell_type": "code",
   "execution_count": 28,
   "metadata": {},
   "outputs": [
    {
     "name": "stderr",
     "output_type": "stream",
     "text": [
      "/tmp/ipykernel_22431/2358819985.py:27: UserWarning: To copy construct from a tensor, it is recommended to use sourceTensor.clone().detach() or sourceTensor.clone().detach().requires_grad_(True), rather than torch.tensor(sourceTensor).\n",
      "  return torch.tensor(sample, dtype=torch.float32), torch.tensor(label, dtype=torch.long)\n"
     ]
    },
    {
     "name": "stdout",
     "output_type": "stream",
     "text": [
      "Epoch 1, Train Loss: 1.9525, Train Acc: 30.06%, Test Loss: 1.8193, Test Acc: 34.20%\n",
      "Epoch 2, Train Loss: 1.7228, Train Acc: 38.82%, Test Loss: 1.7125, Test Acc: 37.60%\n",
      "Epoch 3, Train Loss: 1.5764, Train Acc: 44.76%, Test Loss: 1.7028, Test Acc: 37.80%\n",
      "Epoch 4, Train Loss: 1.4597, Train Acc: 49.78%, Test Loss: 1.6979, Test Acc: 36.60%\n",
      "Epoch 5, Train Loss: 1.3381, Train Acc: 54.64%, Test Loss: 1.7111, Test Acc: 38.00%\n",
      "Epoch 6, Train Loss: 1.2255, Train Acc: 59.72%, Test Loss: 1.7467, Test Acc: 37.60%\n",
      "Epoch 7, Train Loss: 1.1102, Train Acc: 64.80%, Test Loss: 1.8114, Test Acc: 38.00%\n",
      "Epoch 8, Train Loss: 1.0719, Train Acc: 65.16%, Test Loss: 1.9300, Test Acc: 40.20%\n",
      "Epoch 9, Train Loss: 1.0146, Train Acc: 67.94%, Test Loss: 1.9292, Test Acc: 35.20%\n",
      "Epoch 10, Train Loss: 0.9559, Train Acc: 70.08%, Test Loss: 2.0046, Test Acc: 38.00%\n"
     ]
    }
   ],
   "source": [
    "# Train SimpleMLP\n",
    "# your code here"
   ]
  },
  {
   "cell_type": "code",
   "execution_count": 29,
   "metadata": {},
   "outputs": [
    {
     "name": "stderr",
     "output_type": "stream",
     "text": [
      "/tmp/ipykernel_22431/2358819985.py:27: UserWarning: To copy construct from a tensor, it is recommended to use sourceTensor.clone().detach() or sourceTensor.clone().detach().requires_grad_(True), rather than torch.tensor(sourceTensor).\n",
      "  return torch.tensor(sample, dtype=torch.float32), torch.tensor(label, dtype=torch.long)\n"
     ]
    },
    {
     "name": "stdout",
     "output_type": "stream",
     "text": [
      "Epoch 1, Train Loss: 1.8658, Train Acc: 33.28%, Test Loss: 1.7715, Test Acc: 36.80%\n",
      "Epoch 2, Train Loss: 1.6424, Train Acc: 41.62%, Test Loss: 1.6918, Test Acc: 39.20%\n",
      "Epoch 3, Train Loss: 1.4589, Train Acc: 49.18%, Test Loss: 1.6792, Test Acc: 39.60%\n",
      "Epoch 4, Train Loss: 1.2886, Train Acc: 56.98%, Test Loss: 1.6723, Test Acc: 39.60%\n",
      "Epoch 5, Train Loss: 1.1300, Train Acc: 62.70%, Test Loss: 1.6838, Test Acc: 40.80%\n",
      "Epoch 6, Train Loss: 0.9924, Train Acc: 68.00%, Test Loss: 1.7650, Test Acc: 40.40%\n",
      "Epoch 7, Train Loss: 0.8708, Train Acc: 72.64%, Test Loss: 1.8624, Test Acc: 40.60%\n",
      "Epoch 8, Train Loss: 0.8487, Train Acc: 73.34%, Test Loss: 1.9641, Test Acc: 35.20%\n",
      "Epoch 9, Train Loss: 0.7682, Train Acc: 75.86%, Test Loss: 2.0239, Test Acc: 37.80%\n",
      "Epoch 10, Train Loss: 0.6789, Train Acc: 79.24%, Test Loss: 2.1147, Test Acc: 38.00%\n"
     ]
    }
   ],
   "source": [
    "# Train MLPWithBatchNorm\n"
   ]
  },
  {
   "cell_type": "code",
   "execution_count": 30,
   "metadata": {},
   "outputs": [
    {
     "name": "stderr",
     "output_type": "stream",
     "text": [
      "/tmp/ipykernel_22431/2358819985.py:27: UserWarning: To copy construct from a tensor, it is recommended to use sourceTensor.clone().detach() or sourceTensor.clone().detach().requires_grad_(True), rather than torch.tensor(sourceTensor).\n",
      "  return torch.tensor(sample, dtype=torch.float32), torch.tensor(label, dtype=torch.long)\n"
     ]
    },
    {
     "name": "stdout",
     "output_type": "stream",
     "text": [
      "Epoch 1, Train Loss: 2.0680, Train Acc: 25.38%, Test Loss: 1.8535, Test Acc: 34.20%\n",
      "Epoch 2, Train Loss: 1.8832, Train Acc: 32.00%, Test Loss: 1.7989, Test Acc: 34.00%\n",
      "Epoch 3, Train Loss: 1.8100, Train Acc: 36.06%, Test Loss: 1.7502, Test Acc: 38.00%\n",
      "Epoch 4, Train Loss: 1.7511, Train Acc: 38.16%, Test Loss: 1.7285, Test Acc: 36.60%\n",
      "Epoch 5, Train Loss: 1.6997, Train Acc: 39.64%, Test Loss: 1.7046, Test Acc: 37.00%\n",
      "Epoch 6, Train Loss: 1.6772, Train Acc: 41.08%, Test Loss: 1.6804, Test Acc: 40.40%\n",
      "Epoch 7, Train Loss: 1.6327, Train Acc: 42.88%, Test Loss: 1.6621, Test Acc: 40.60%\n",
      "Epoch 8, Train Loss: 1.5763, Train Acc: 44.60%, Test Loss: 1.6580, Test Acc: 40.00%\n",
      "Epoch 9, Train Loss: 1.5546, Train Acc: 46.02%, Test Loss: 1.6359, Test Acc: 41.20%\n",
      "Epoch 10, Train Loss: 1.5251, Train Acc: 47.94%, Test Loss: 1.6387, Test Acc: 40.40%\n"
     ]
    }
   ],
   "source": [
    "# Training MLPWithDropout\n",
    "# your code here"
   ]
  },
  {
   "cell_type": "code",
   "execution_count": 31,
   "metadata": {},
   "outputs": [
    {
     "name": "stderr",
     "output_type": "stream",
     "text": [
      "/tmp/ipykernel_22431/2358819985.py:27: UserWarning: To copy construct from a tensor, it is recommended to use sourceTensor.clone().detach() or sourceTensor.clone().detach().requires_grad_(True), rather than torch.tensor(sourceTensor).\n",
      "  return torch.tensor(sample, dtype=torch.float32), torch.tensor(label, dtype=torch.long)\n"
     ]
    },
    {
     "name": "stdout",
     "output_type": "stream",
     "text": [
      "Epoch 1, Train Loss: 2.0578, Train Acc: 26.04%, Test Loss: 1.8306, Test Acc: 34.20%\n",
      "Epoch 2, Train Loss: 1.8578, Train Acc: 33.74%, Test Loss: 1.7403, Test Acc: 36.00%\n",
      "Epoch 3, Train Loss: 1.7482, Train Acc: 37.86%, Test Loss: 1.7024, Test Acc: 38.60%\n",
      "Epoch 4, Train Loss: 1.6810, Train Acc: 39.54%, Test Loss: 1.6811, Test Acc: 40.40%\n",
      "Epoch 5, Train Loss: 1.6177, Train Acc: 42.54%, Test Loss: 1.6537, Test Acc: 39.20%\n",
      "Epoch 6, Train Loss: 1.5658, Train Acc: 44.42%, Test Loss: 1.6255, Test Acc: 38.40%\n",
      "Epoch 7, Train Loss: 1.5343, Train Acc: 45.78%, Test Loss: 1.6342, Test Acc: 39.80%\n",
      "Epoch 8, Train Loss: 1.4864, Train Acc: 47.80%, Test Loss: 1.6221, Test Acc: 39.20%\n",
      "Epoch 9, Train Loss: 1.4590, Train Acc: 48.80%, Test Loss: 1.6265, Test Acc: 38.20%\n",
      "Epoch 10, Train Loss: 1.4026, Train Acc: 51.08%, Test Loss: 1.6309, Test Acc: 39.80%\n"
     ]
    }
   ],
   "source": [
    "# Training MLPWithBatchNormDropout\n",
    "# your code here"
   ]
  },
  {
   "cell_type": "markdown",
   "metadata": {},
   "source": [
    "#### Question: Analysis the results and find out whether any of the above techniques is useful for training this MLP for CIFAR-10 classification. Explain why/how they work?"
   ]
  },
  {
   "cell_type": "markdown",
   "metadata": {},
   "source": [
    "### Step4: Design a MLP that has deeper layers with Redisual Blocks"
   ]
  },
  {
   "cell_type": "code",
   "execution_count": 32,
   "metadata": {},
   "outputs": [],
   "source": [
    "# A deeper MLP with 50 layers\n",
    "class DeepMLP(nn.Module):\n",
    "    def __init__(self, input_size=32*32*3, num_classes=10, hidden_size=512, num_layers=50):\n",
    "        super(DeepMLP, self).__init__()\n",
    "        self.fc1 = nn.Linear(input_size, hidden_size)\n",
    "        self.bn1 = nn.BatchNorm1d(hidden_size)\n",
    "        \n",
    "        # Stack multiple hidden layers\n",
    "        self.hidden_layers = nn.ModuleList([\n",
    "            nn.Linear(hidden_size, hidden_size) for _ in range(num_layers)\n",
    "        ])\n",
    "        self.bn_layers = nn.ModuleList([\n",
    "            nn.BatchNorm1d(hidden_size) for _ in range(num_layers)\n",
    "        ])\n",
    "        \n",
    "        self.fc_out = nn.Linear(hidden_size, num_classes)\n",
    "\n",
    "    def forward(self, x):\n",
    "        \n",
    "        x = x.view(-1, 32*32*3)\n",
    "        x = F.relu(self.bn1(self.fc1(x)))\n",
    "\n",
    "        # Pass through deep hidden layers\n",
    "        for i in range(len(self.hidden_layers)):\n",
    "            x = F.relu(self.bn_layers[i](self.hidden_layers[i](x)))\n",
    "        \n",
    "        # Output layer for classification\n",
    "        x = self.fc_out(x)\n",
    "        \n",
    "        return x"
   ]
  },
  {
   "cell_type": "code",
   "execution_count": 33,
   "metadata": {},
   "outputs": [],
   "source": [
    "# Design a residual block\n",
    "# input -> Linear -> batchnorm -> activation -> dropout -> Linear -> batchnorm -> skip connection -> activation -> output\n",
    "class ResidualMLPBlock(nn.Module):\n",
    "    def __init__(self, input_size, hidden_size, dropout_prob=0.5):\n",
    "        # your code here\n",
    "        pass\n",
    "\n",
    "# Design MLP with residual blocks\n",
    "# Use nn.ModuleList \n",
    "# input -> Linear -> batchnorm -> activation -> residual layers -> classifacation layer\n",
    "class DeepResidualMLP(nn.Module):\n",
    "    def __init__(self, input_size=32*32*3, num_classes=10, hidden_size=512, num_layers=50, dropout_prob=0.5):\n",
    "        # your code here\n",
    "        pass\n"
   ]
  },
  {
   "cell_type": "code",
   "execution_count": 41,
   "metadata": {},
   "outputs": [
    {
     "name": "stderr",
     "output_type": "stream",
     "text": [
      "/tmp/ipykernel_22431/2358819985.py:27: UserWarning: To copy construct from a tensor, it is recommended to use sourceTensor.clone().detach() or sourceTensor.clone().detach().requires_grad_(True), rather than torch.tensor(sourceTensor).\n",
      "  return torch.tensor(sample, dtype=torch.float32), torch.tensor(label, dtype=torch.long)\n"
     ]
    },
    {
     "name": "stdout",
     "output_type": "stream",
     "text": [
      "Epoch 1, Train Loss: 2.3427, Train Acc: 10.30%, Test Loss: 2.3070, Test Acc: 10.20%\n",
      "Epoch 2, Train Loss: 2.2742, Train Acc: 12.86%, Test Loss: 62.3955, Test Acc: 13.20%\n",
      "Epoch 3, Train Loss: 2.3095, Train Acc: 11.54%, Test Loss: 13.5733, Test Acc: 10.60%\n",
      "Epoch 4, Train Loss: 2.3050, Train Acc: 12.60%, Test Loss: 2.3414, Test Acc: 11.60%\n",
      "Epoch 5, Train Loss: 2.3149, Train Acc: 11.32%, Test Loss: 68.5002, Test Acc: 13.80%\n",
      "Epoch 6, Train Loss: 2.3140, Train Acc: 12.36%, Test Loss: 22.3949, Test Acc: 10.20%\n",
      "Epoch 7, Train Loss: 2.3231, Train Acc: 10.44%, Test Loss: 3.3686, Test Acc: 10.60%\n",
      "Epoch 8, Train Loss: 2.3193, Train Acc: 9.86%, Test Loss: 7.2970, Test Acc: 11.20%\n",
      "Epoch 9, Train Loss: 2.3132, Train Acc: 10.76%, Test Loss: 2.8711, Test Acc: 12.00%\n",
      "Epoch 10, Train Loss: 2.2869, Train Acc: 12.74%, Test Loss: 2.3205, Test Acc: 11.60%\n"
     ]
    },
    {
     "data": {
      "image/png": "[encoded data removed]",
      "text/plain": [
       "<Figure size 1000x500 with 1 Axes>"
      ]
     },
     "metadata": {},
     "output_type": "display_data"
    }
   ],
   "source": [
    "# Training DeepMLP\n",
    "# your code here\n",
    "\n",
    "\n",
    "# Save the losses during training and testing and plot them using plot_loss()\n",
    "# your code here"
   ]
  },
  {
   "cell_type": "code",
   "execution_count": 40,
   "metadata": {},
   "outputs": [
    {
     "name": "stderr",
     "output_type": "stream",
     "text": [
      "/tmp/ipykernel_22431/2358819985.py:27: UserWarning: To copy construct from a tensor, it is recommended to use sourceTensor.clone().detach() or sourceTensor.clone().detach().requires_grad_(True), rather than torch.tensor(sourceTensor).\n",
      "  return torch.tensor(sample, dtype=torch.float32), torch.tensor(label, dtype=torch.long)\n"
     ]
    },
    {
     "name": "stdout",
     "output_type": "stream",
     "text": [
      "Epoch 1, Train Loss: 3.5400, Train Acc: 14.52%, Test Loss: 5.7835, Test Acc: 19.80%\n",
      "Epoch 2, Train Loss: 3.0803, Train Acc: 21.48%, Test Loss: 4.3263, Test Acc: 24.60%\n",
      "Epoch 3, Train Loss: 2.4473, Train Acc: 26.46%, Test Loss: 2.4702, Test Acc: 31.80%\n",
      "Epoch 4, Train Loss: 2.2729, Train Acc: 30.52%, Test Loss: 2.2675, Test Acc: 31.20%\n",
      "Epoch 5, Train Loss: 2.1047, Train Acc: 35.30%, Test Loss: 2.2999, Test Acc: 34.80%\n",
      "Epoch 6, Train Loss: 1.9481, Train Acc: 37.28%, Test Loss: 2.0056, Test Acc: 36.60%\n",
      "Epoch 7, Train Loss: 1.7600, Train Acc: 40.78%, Test Loss: 1.9843, Test Acc: 36.20%\n",
      "Epoch 8, Train Loss: 1.7039, Train Acc: 42.70%, Test Loss: 1.7946, Test Acc: 39.40%\n",
      "Epoch 9, Train Loss: 1.6227, Train Acc: 47.32%, Test Loss: 1.7832, Test Acc: 38.00%\n",
      "Epoch 10, Train Loss: 1.5462, Train Acc: 50.58%, Test Loss: 2.4930, Test Acc: 36.80%\n"
     ]
    },
    {
     "data": {
      "image/png": "[encoded data removed]",
      "text/plain": [
       "<Figure size 1000x500 with 1 Axes>"
      ]
     },
     "metadata": {},
     "output_type": "display_data"
    }
   ],
   "source": [
    "# Training DeepMLP\n",
    "# your code here\n",
    "\n",
    "\n",
    "# Save the losses during training and testing and plot them using plot_loss()\n",
    "# your code here"
   ]
  },
  {
   "cell_type": "markdown",
   "metadata": {},
   "source": [
    "#### Bonus: Try to see the gradient flow when training the above networks"
   ]
  },
  {
   "cell_type": "code",
   "execution_count": 37,
   "metadata": {},
   "outputs": [
    {
     "name": "stderr",
     "output_type": "stream",
     "text": [
      "/tmp/ipykernel_22431/2358819985.py:27: UserWarning: To copy construct from a tensor, it is recommended to use sourceTensor.clone().detach() or sourceTensor.clone().detach().requires_grad_(True), rather than torch.tensor(sourceTensor).\n",
      "  return torch.tensor(sample, dtype=torch.float32), torch.tensor(label, dtype=torch.long)\n"
     ]
    },
    {
     "name": "stdout",
     "output_type": "stream",
     "text": [
      "Epoch [1/100]\n",
      "Train Loss: 3.3950, Train Acc: 14.86%\n",
      "Average Gradient Norm: 27.4979\n",
      "Epoch [2/100]\n",
      "Train Loss: 3.0062, Train Acc: 21.44%\n",
      "Average Gradient Norm: 16.7026\n",
      "Epoch [3/100]\n",
      "Train Loss: 2.4888, Train Acc: 25.76%\n",
      "Average Gradient Norm: 13.3603\n",
      "Epoch [4/100]\n",
      "Train Loss: 2.1574, Train Acc: 30.28%\n",
      "Average Gradient Norm: 10.7063\n",
      "Epoch [5/100]\n",
      "Train Loss: 2.0989, Train Acc: 32.36%\n",
      "Average Gradient Norm: 10.0257\n",
      "Epoch [6/100]\n",
      "Train Loss: 1.9071, Train Acc: 36.68%\n",
      "Average Gradient Norm: 7.2165\n",
      "Epoch [7/100]\n",
      "Train Loss: 1.7448, Train Acc: 40.20%\n",
      "Average Gradient Norm: 6.4097\n",
      "Epoch [8/100]\n",
      "Train Loss: 1.7006, Train Acc: 43.34%\n",
      "Average Gradient Norm: 6.8695\n",
      "Epoch [9/100]\n",
      "Train Loss: 1.5611, Train Acc: 46.94%\n",
      "Average Gradient Norm: 5.6445\n",
      "Epoch [10/100]\n",
      "Train Loss: 1.5169, Train Acc: 51.36%\n",
      "Average Gradient Norm: 5.6886\n",
      "Epoch [11/100]\n",
      "Train Loss: 1.4620, Train Acc: 52.28%\n",
      "Average Gradient Norm: 6.0525\n",
      "Epoch [12/100]\n",
      "Train Loss: 1.4051, Train Acc: 54.38%\n",
      "Average Gradient Norm: 4.5890\n",
      "Epoch [13/100]\n",
      "Train Loss: 1.2704, Train Acc: 59.36%\n",
      "Average Gradient Norm: 3.6712\n",
      "Epoch [14/100]\n",
      "Train Loss: 1.2580, Train Acc: 62.00%\n",
      "Average Gradient Norm: 4.6219\n",
      "Epoch [15/100]\n",
      "Train Loss: 1.2047, Train Acc: 63.68%\n",
      "Average Gradient Norm: 4.1875\n",
      "Epoch [16/100]\n",
      "Train Loss: 1.1176, Train Acc: 65.12%\n",
      "Average Gradient Norm: 3.6880\n",
      "Epoch [17/100]\n",
      "Train Loss: 1.0597, Train Acc: 67.14%\n",
      "Average Gradient Norm: 3.1850\n",
      "Epoch [18/100]\n",
      "Train Loss: 1.0500, Train Acc: 70.32%\n",
      "Average Gradient Norm: 3.4996\n",
      "Epoch [19/100]\n",
      "Train Loss: 0.9943, Train Acc: 70.90%\n",
      "Average Gradient Norm: 2.9276\n",
      "Epoch [20/100]\n",
      "Train Loss: 0.9319, Train Acc: 72.78%\n",
      "Average Gradient Norm: 2.5970\n",
      "Epoch [21/100]\n",
      "Train Loss: 0.9300, Train Acc: 72.14%\n",
      "Average Gradient Norm: 3.2456\n",
      "Epoch [22/100]\n",
      "Train Loss: 0.8458, Train Acc: 74.74%\n",
      "Average Gradient Norm: 2.4535\n",
      "Epoch [23/100]\n",
      "Train Loss: 0.8343, Train Acc: 75.68%\n",
      "Average Gradient Norm: 2.6516\n",
      "Epoch [24/100]\n",
      "Train Loss: 0.7990, Train Acc: 77.44%\n",
      "Average Gradient Norm: 2.5505\n",
      "Epoch [25/100]\n",
      "Train Loss: 0.7566, Train Acc: 77.52%\n",
      "Average Gradient Norm: 2.4052\n",
      "Epoch [26/100]\n",
      "Train Loss: 0.7105, Train Acc: 79.86%\n",
      "Average Gradient Norm: 2.5225\n",
      "Epoch [27/100]\n",
      "Train Loss: 0.6882, Train Acc: 80.72%\n",
      "Average Gradient Norm: 2.3060\n",
      "Epoch [28/100]\n",
      "Train Loss: 0.6786, Train Acc: 79.68%\n",
      "Average Gradient Norm: 2.1018\n",
      "Epoch [29/100]\n",
      "Train Loss: 0.6183, Train Acc: 81.82%\n",
      "Average Gradient Norm: 2.0766\n",
      "Epoch [30/100]\n",
      "Train Loss: 0.6107, Train Acc: 82.12%\n",
      "Average Gradient Norm: 2.0567\n",
      "Epoch [31/100]\n",
      "Train Loss: 0.5982, Train Acc: 82.30%\n",
      "Average Gradient Norm: 2.0197\n",
      "Epoch [32/100]\n",
      "Train Loss: 0.5795, Train Acc: 83.08%\n",
      "Average Gradient Norm: 1.9647\n",
      "Epoch [33/100]\n",
      "Train Loss: 0.5693, Train Acc: 83.64%\n",
      "Average Gradient Norm: 2.0075\n",
      "Epoch [34/100]\n",
      "Train Loss: 0.5451, Train Acc: 84.94%\n",
      "Average Gradient Norm: 1.9730\n",
      "Epoch [35/100]\n",
      "Train Loss: 0.4937, Train Acc: 85.94%\n",
      "Average Gradient Norm: 1.7507\n",
      "Epoch [36/100]\n",
      "Train Loss: 0.5196, Train Acc: 85.48%\n",
      "Average Gradient Norm: 1.9098\n",
      "Epoch [37/100]\n",
      "Train Loss: 0.4909, Train Acc: 86.52%\n",
      "Average Gradient Norm: 1.7715\n",
      "Epoch [38/100]\n",
      "Train Loss: 0.4645, Train Acc: 86.40%\n",
      "Average Gradient Norm: 1.7492\n",
      "Epoch [39/100]\n",
      "Train Loss: 0.4815, Train Acc: 87.00%\n",
      "Average Gradient Norm: 1.9117\n",
      "Epoch [40/100]\n",
      "Train Loss: 0.4450, Train Acc: 87.02%\n",
      "Average Gradient Norm: 1.6966\n",
      "Epoch [41/100]\n",
      "Train Loss: 0.4140, Train Acc: 88.16%\n",
      "Average Gradient Norm: 1.6447\n",
      "Epoch [42/100]\n",
      "Train Loss: 0.4282, Train Acc: 87.86%\n",
      "Average Gradient Norm: 1.7304\n",
      "Epoch [43/100]\n",
      "Train Loss: 0.4099, Train Acc: 88.84%\n",
      "Average Gradient Norm: 1.7361\n",
      "Epoch [44/100]\n",
      "Train Loss: 0.4471, Train Acc: 87.98%\n",
      "Average Gradient Norm: 2.6933\n",
      "Epoch [45/100]\n",
      "Train Loss: 0.4023, Train Acc: 87.92%\n",
      "Average Gradient Norm: 1.6021\n",
      "Epoch [46/100]\n",
      "Train Loss: 0.3857, Train Acc: 88.72%\n",
      "Average Gradient Norm: 1.5590\n",
      "Epoch [47/100]\n",
      "Train Loss: 0.3413, Train Acc: 89.62%\n",
      "Average Gradient Norm: 1.4318\n",
      "Epoch [48/100]\n",
      "Train Loss: 0.3625, Train Acc: 89.62%\n",
      "Average Gradient Norm: 1.4999\n",
      "Epoch [49/100]\n",
      "Train Loss: 0.3681, Train Acc: 89.46%\n",
      "Average Gradient Norm: 1.4634\n",
      "Epoch [50/100]\n",
      "Train Loss: 0.3243, Train Acc: 90.88%\n",
      "Average Gradient Norm: 1.4252\n",
      "Epoch [51/100]\n",
      "Train Loss: 0.3183, Train Acc: 91.18%\n",
      "Average Gradient Norm: 1.4110\n",
      "Epoch [52/100]\n",
      "Train Loss: 0.3518, Train Acc: 90.70%\n",
      "Average Gradient Norm: 2.0461\n",
      "Epoch [53/100]\n",
      "Train Loss: 0.3129, Train Acc: 91.80%\n",
      "Average Gradient Norm: 1.4546\n",
      "Epoch [54/100]\n",
      "Train Loss: 0.3268, Train Acc: 91.30%\n",
      "Average Gradient Norm: 1.4424\n",
      "Epoch [55/100]\n",
      "Train Loss: 0.2976, Train Acc: 91.54%\n",
      "Average Gradient Norm: 1.3524\n",
      "Epoch [56/100]\n",
      "Train Loss: 0.2687, Train Acc: 92.00%\n",
      "Average Gradient Norm: 1.2304\n",
      "Epoch [57/100]\n",
      "Train Loss: 0.2780, Train Acc: 91.96%\n",
      "Average Gradient Norm: 1.2894\n",
      "Epoch [58/100]\n",
      "Train Loss: 0.2784, Train Acc: 92.02%\n",
      "Average Gradient Norm: 1.3726\n",
      "Epoch [59/100]\n",
      "Train Loss: 0.2787, Train Acc: 92.74%\n",
      "Average Gradient Norm: 1.3052\n",
      "Epoch [60/100]\n",
      "Train Loss: 0.2786, Train Acc: 91.64%\n",
      "Average Gradient Norm: 1.3676\n",
      "Epoch [61/100]\n",
      "Train Loss: 0.2616, Train Acc: 92.12%\n",
      "Average Gradient Norm: 1.3108\n",
      "Epoch [62/100]\n",
      "Train Loss: 0.2353, Train Acc: 93.24%\n",
      "Average Gradient Norm: 1.2124\n",
      "Epoch [63/100]\n",
      "Train Loss: 0.2473, Train Acc: 92.80%\n",
      "Average Gradient Norm: 1.2373\n",
      "Epoch [64/100]\n",
      "Train Loss: 0.2393, Train Acc: 93.26%\n",
      "Average Gradient Norm: 1.2246\n",
      "Epoch [65/100]\n",
      "Train Loss: 0.2273, Train Acc: 93.28%\n",
      "Average Gradient Norm: 1.1991\n",
      "Epoch [66/100]\n",
      "Train Loss: 0.2286, Train Acc: 93.90%\n",
      "Average Gradient Norm: 1.1601\n",
      "Epoch [67/100]\n",
      "Train Loss: 0.2453, Train Acc: 93.16%\n",
      "Average Gradient Norm: 1.2010\n",
      "Epoch [68/100]\n",
      "Train Loss: 0.2180, Train Acc: 93.72%\n",
      "Average Gradient Norm: 1.1367\n",
      "Epoch [69/100]\n",
      "Train Loss: 0.2300, Train Acc: 94.04%\n",
      "Average Gradient Norm: 1.2252\n",
      "Epoch [70/100]\n",
      "Train Loss: 0.2614, Train Acc: 92.98%\n",
      "Average Gradient Norm: 1.5530\n",
      "Epoch [71/100]\n",
      "Train Loss: 0.2277, Train Acc: 93.44%\n",
      "Average Gradient Norm: 1.2092\n",
      "Epoch [72/100]\n",
      "Train Loss: 0.2238, Train Acc: 93.56%\n",
      "Average Gradient Norm: 1.2343\n",
      "Epoch [73/100]\n",
      "Train Loss: 0.2614, Train Acc: 92.70%\n",
      "Average Gradient Norm: 1.6032\n",
      "Epoch [74/100]\n",
      "Train Loss: 0.2320, Train Acc: 93.52%\n",
      "Average Gradient Norm: 1.2537\n",
      "Epoch [75/100]\n",
      "Train Loss: 0.2221, Train Acc: 94.44%\n",
      "Average Gradient Norm: 1.4560\n",
      "Epoch [76/100]\n",
      "Train Loss: 0.2028, Train Acc: 94.52%\n",
      "Average Gradient Norm: 1.0249\n",
      "Epoch [77/100]\n",
      "Train Loss: 0.2350, Train Acc: 93.54%\n",
      "Average Gradient Norm: 1.3871\n",
      "Epoch [78/100]\n",
      "Train Loss: 0.1991, Train Acc: 94.70%\n",
      "Average Gradient Norm: 1.1312\n",
      "Epoch [79/100]\n",
      "Train Loss: 0.2082, Train Acc: 95.04%\n",
      "Average Gradient Norm: 1.5068\n",
      "Epoch [80/100]\n",
      "Train Loss: 0.2029, Train Acc: 94.60%\n",
      "Average Gradient Norm: 1.0857\n",
      "Epoch [81/100]\n",
      "Train Loss: 0.1747, Train Acc: 95.14%\n",
      "Average Gradient Norm: 1.0457\n",
      "Epoch [82/100]\n",
      "Train Loss: 0.1906, Train Acc: 94.52%\n",
      "Average Gradient Norm: 1.0630\n",
      "Epoch [83/100]\n",
      "Train Loss: 0.1679, Train Acc: 95.08%\n",
      "Average Gradient Norm: 0.9874\n",
      "Epoch [84/100]\n",
      "Train Loss: 0.1817, Train Acc: 94.92%\n",
      "Average Gradient Norm: 1.0719\n",
      "Epoch [85/100]\n",
      "Train Loss: 0.1824, Train Acc: 95.12%\n",
      "Average Gradient Norm: 1.0390\n",
      "Epoch [86/100]\n",
      "Train Loss: 0.1480, Train Acc: 95.66%\n",
      "Average Gradient Norm: 0.9378\n",
      "Epoch [87/100]\n",
      "Train Loss: 0.1590, Train Acc: 95.14%\n",
      "Average Gradient Norm: 1.0209\n",
      "Epoch [88/100]\n",
      "Train Loss: 0.1840, Train Acc: 94.78%\n",
      "Average Gradient Norm: 1.0627\n",
      "Epoch [89/100]\n",
      "Train Loss: 0.1629, Train Acc: 95.22%\n",
      "Average Gradient Norm: 0.9930\n",
      "Epoch [90/100]\n",
      "Train Loss: 0.1442, Train Acc: 95.52%\n",
      "Average Gradient Norm: 0.9363\n",
      "Epoch [91/100]\n",
      "Train Loss: 0.1495, Train Acc: 95.54%\n",
      "Average Gradient Norm: 0.9535\n",
      "Epoch [92/100]\n",
      "Train Loss: 0.1458, Train Acc: 95.94%\n",
      "Average Gradient Norm: 0.9050\n",
      "Epoch [93/100]\n",
      "Train Loss: 0.1680, Train Acc: 95.48%\n",
      "Average Gradient Norm: 1.2710\n",
      "Epoch [94/100]\n",
      "Train Loss: 0.1717, Train Acc: 95.76%\n",
      "Average Gradient Norm: 1.2860\n",
      "Epoch [95/100]\n",
      "Train Loss: 0.1607, Train Acc: 95.22%\n",
      "Average Gradient Norm: 1.0876\n",
      "Epoch [96/100]\n",
      "Train Loss: 0.1420, Train Acc: 96.20%\n",
      "Average Gradient Norm: 0.9431\n",
      "Epoch [97/100]\n",
      "Train Loss: 0.1558, Train Acc: 95.90%\n",
      "Average Gradient Norm: 0.9895\n",
      "Epoch [98/100]\n",
      "Train Loss: 0.1483, Train Acc: 95.90%\n",
      "Average Gradient Norm: 0.9651\n",
      "Epoch [99/100]\n",
      "Train Loss: 0.1405, Train Acc: 96.06%\n",
      "Average Gradient Norm: 0.9729\n",
      "Epoch [100/100]\n",
      "Train Loss: 0.1284, Train Acc: 96.42%\n",
      "Average Gradient Norm: 1.0555\n"
     ]
    }
   ],
   "source": []
  },
  {
   "cell_type": "markdown",
   "metadata": {},
   "source": []
  }
 ],
 "metadata": {
  "kernelspec": {
   "display_name": "Python 3",
   "language": "python",
   "name": "python3"
  },
  "language_info": {
   "codemirror_mode": {
    "name": "ipython",
    "version": 3
   },
   "file_extension": ".py",
   "mimetype": "text/x-python",
   "name": "python",
   "nbconvert_exporter": "python",
   "pygments_lexer": "ipython3",
   "version": "3.10.14"
  }
 },
 "nbformat": 4,
 "nbformat_minor": 2
}
