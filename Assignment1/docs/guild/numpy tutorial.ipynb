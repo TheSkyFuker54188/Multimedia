{
 "cells": [
  {
   "cell_type": "markdown",
   "id": "72917933-84db-4c4b-bb73-eb30fa1bd95a",
   "metadata": {},
   "source": [
    "In this tutorial, we will cover:\n",
    "\n",
    "* Basic Python: Basic data types, Containers: Lists, Dictionaries, Functions, Classes\n",
    "* Numpy: Arrays, Array indexing, Datatypes, Array math, Broadcasting\n",
    "* Simple Kmeans"
   ]
  },
  {
   "cell_type": "markdown",
   "id": "68fc362e-3bb7-4a0f-a14a-53082f5d4e56",
   "metadata": {},
   "source": [
    "# Installation\n",
    "\n",
    "miniconda: https://docs.anaconda.com/miniconda/\n",
    "\n",
    "Windows: open the `cmd` for running commands, then initialize the shell with `~/miniconda3/binconda init`\n",
    "\n",
    "Then reopen the shell, create a new environment as follow:\n",
    "\n",
    "`conda create --name mm python=3.9 -y`\n",
    "\n",
    "`conda activate mm`\n",
    "\n",
    "Free free to install any packages with `pip` or `conda` :) "
   ]
  },
  {
   "cell_type": "markdown",
   "id": "0237df8b-90b0-4c42-a2db-097f995d9275",
   "metadata": {},
   "source": [
    "# Basics of Python"
   ]
  },
  {
   "cell_type": "code",
   "execution_count": 1,
   "id": "666c780a-b87f-4550-9eef-2c42c08270fc",
   "metadata": {},
   "outputs": [
    {
     "name": "stdout",
     "output_type": "stream",
     "text": [
      "[1, 1, 2, 3, 6, 8, 10]\n"
     ]
    }
   ],
   "source": [
    "def quicksort(arr):\n",
    "    if len(arr) <= 1:\n",
    "        return arr\n",
    "    pivot = arr[len(arr) // 2]\n",
    "    left = [x for x in arr if x < pivot]\n",
    "    middle = [x for x in arr if x == pivot]\n",
    "    right = [x for x in arr if x > pivot]\n",
    "    return quicksort(left) + middle + quicksort(right)\n",
    "\n",
    "print(quicksort([3,6,8,10,1,2,1]))"
   ]
  },
  {
   "cell_type": "markdown",
   "id": "9f23f055-d7e5-4957-b4e7-6caeab972cfa",
   "metadata": {},
   "source": [
    "## Basic data types\n",
    "\n",
    "int, float, booleans, strings"
   ]
  },
  {
   "cell_type": "code",
   "execution_count": 2,
   "id": "1285587e-e36f-4ac0-8358-d50a61456edd",
   "metadata": {},
   "outputs": [
    {
     "name": "stdout",
     "output_type": "stream",
     "text": [
      "---------int type---------\n",
      "x = 3\n",
      "type(x): <class 'int'>\n",
      "x + 1 = 4\n",
      "x - 1 = 2\n",
      "x * 2 = 6\n",
      "x ** 2 = 9\n",
      "After x += 1, x = 4\n",
      "After x *= 2, x = 8 \n",
      "\n",
      "----------------------------\n"
     ]
    }
   ],
   "source": [
    "###### int type ######\n",
    "print('---------int type---------')\n",
    "x = 3\n",
    "print(\"x =\", x)\n",
    "print(\"type(x):\", type(x))\n",
    "print(\"x + 1 =\", x + 1)   # Addition\n",
    "print(\"x - 1 =\", x - 1)   # Subtraction\n",
    "print(\"x * 2 =\", x * 2)   # Multiplication\n",
    "print(\"x ** 2 =\", x ** 2)  # Exponentiation\n",
    "x += 1 # self-add\n",
    "print(\"After x += 1, x =\", x)\n",
    "x *= 2 # self-multiply\n",
    "print(\"After x *= 2, x =\", x, '\\n')\n",
    "print('----------------------------')\n"
   ]
  },
  {
   "cell_type": "code",
   "execution_count": 4,
   "id": "ea57cfeb-3033-4e3d-8473-32d18ce82577",
   "metadata": {},
   "outputs": [
    {
     "name": "stdout",
     "output_type": "stream",
     "text": [
      "---------float type---------\n",
      "y =  2.5\n",
      "type(y): <class 'float'>\n",
      "2.5 3.5 5.0 6.25\n",
      "----------------------------\n"
     ]
    }
   ],
   "source": [
    "###### float type ######\n",
    "print('---------float type---------')\n",
    "y = 2.5\n",
    "print(\"y = \", y)\n",
    "print(\"type(y):\", type(y))\n",
    "print(y, y + 1, y * 2, y ** 2)\n",
    "print('----------------------------')"
   ]
  },
  {
   "cell_type": "code",
   "execution_count": 5,
   "id": "afecfd5b-98fa-4f34-8e1f-7b2dec0817f5",
   "metadata": {},
   "outputs": [
    {
     "name": "stdout",
     "output_type": "stream",
     "text": [
      "---------bool type---------\n",
      "t = True , f = False\n",
      "type(t): <class 'bool'>\n",
      "t and f = False\n",
      "t or f = True\n",
      "not t = False\n",
      "t != f = True\n",
      "----------------------------\n"
     ]
    }
   ],
   "source": [
    "###### boolean type ######\n",
    "print('---------bool type---------')\n",
    "t, f = True, False\n",
    "print(\"t =\", t, \", f =\", f)\n",
    "print(\"type(t):\", type(t))\n",
    "print(\"t and f =\", t and f)  # Logical AND\n",
    "print(\"t or f =\", t or f)    # Logical OR\n",
    "print(\"not t =\", not t)      # Logical NOT\n",
    "print(\"t != f =\", t != f)    # Logical XOR (inequality)\n",
    "print('----------------------------')\n"
   ]
  },
  {
   "cell_type": "code",
   "execution_count": 6,
   "id": "e91cdd65-5441-4f5f-bbf3-a0b54b870933",
   "metadata": {},
   "outputs": [
    {
     "name": "stdout",
     "output_type": "stream",
     "text": [
      "---------string type---------\n",
      "hello = hello\n",
      "type(hello): <class 'str'>\n",
      "world = world\n",
      "hello length: 5\n",
      "Concatenated string (hw): hello world\n",
      "Formatted string (hw12): hello world 12\n"
     ]
    }
   ],
   "source": [
    "###### string type ######\n",
    "print('---------string type---------')\n",
    "hello = 'hello'   # String literals can use single quotes\n",
    "world = \"world\"   # or double quotes; it does not matter\n",
    "print(\"hello =\", hello)\n",
    "print(\"type(hello):\", type(hello))\n",
    "print(\"world =\", world)\n",
    "print(\"hello length:\", len(hello))\n",
    "hw = hello + ' ' + world  # String concatenation\n",
    "print(\"Concatenated string (hw):\", hw)\n",
    "hw12 = '{} {} {}'.format(hello, world, 12)  # string formatting\n",
    "print(\"Formatted string (hw12):\", hw12)\n",
    "s = \"hello\""
   ]
  },
  {
   "cell_type": "code",
   "execution_count": 8,
   "id": "bc45a4c4-aecc-4a12-8e62-b6d12c1ac8e9",
   "metadata": {},
   "outputs": [
    {
     "name": "stdout",
     "output_type": "stream",
     "text": [
      "Capitalized: Hello\n",
      "Uppercase: HELLO\n",
      "Right-justified (width 7):   hello\n",
      "Centered (width 7):  hello \n",
      "Replaced 'l' with '(ell)': he(ell)(ell)o\n",
      "Stripped '  world ': world\n",
      "----------------------------\n"
     ]
    }
   ],
   "source": [
    "# useful methods for string type\n",
    "print(\"Capitalized:\", s.capitalize())  # Capitalize a string\n",
    "print(\"Uppercase:\", s.upper())         # Convert a string to uppercase; prints \"HELLO\"\n",
    "print(\"Right-justified (width 7):\", s.rjust(7))  # Right-justify a string, padding with spaces\n",
    "print(\"Centered (width 7):\", s.center(7))  # Center a string, padding with spaces\n",
    "print(\"Replaced 'l' with '(ell)':\", s.replace('l', '(ell)'))  # Replace all instances of one substring with another\n",
    "print(\"Stripped '  world ':\", '  world '.strip())  # Strip leading and trailing whitespace\n",
    "print('----------------------------')"
   ]
  },
  {
   "cell_type": "markdown",
   "id": "5d0a25ff-4268-4a9d-9a2e-9cfc7cf727d7",
   "metadata": {},
   "source": [
    "For more built-in data types, see [https://docs.python.org/3.7/library/stdtypes.html#numeric-types-int-float-long-complex](Document)"
   ]
  },
  {
   "cell_type": "markdown",
   "id": "b7b09ae3-f7f5-41af-9760-60fff96c50a9",
   "metadata": {},
   "source": [
    "## Containers\n",
    "\n",
    "built-in container types: [list](https://docs.python.org/3.7/tutorial/datastructures.html#more-on-lists), [dictionary](https://docs.python.org/2/library/stdtypes.html#dict), set, tuple"
   ]
  },
  {
   "cell_type": "markdown",
   "id": "738db681-0c26-4354-bc70-786ef5d6970c",
   "metadata": {},
   "source": [
    "### List"
   ]
  },
  {
   "cell_type": "code",
   "execution_count": 9,
   "id": "a484ad46-7181-4577-a214-92e8e883e6f1",
   "metadata": {},
   "outputs": [
    {
     "name": "stdout",
     "output_type": "stream",
     "text": [
      "[3, 1, 2] 2\n",
      "2\n"
     ]
    }
   ],
   "source": [
    "xs = [3, 1, 2]   # Create a list\n",
    "print(xs, xs[2])\n",
    "print(xs[-1])     # Negative indices count from the end of the list; prints \"2\""
   ]
  },
  {
   "cell_type": "code",
   "execution_count": 10,
   "id": "2c7fd009-dbc5-49e4-be8d-c73f5da40179",
   "metadata": {},
   "outputs": [
    {
     "name": "stdout",
     "output_type": "stream",
     "text": [
      "[3, 1, 'foo']\n"
     ]
    }
   ],
   "source": [
    "xs[2] = 'foo'    # Lists can contain elements of different types\n",
    "print(xs)"
   ]
  },
  {
   "cell_type": "code",
   "execution_count": 11,
   "id": "0d613e35-358b-4e4c-9d5d-bca6832de9d9",
   "metadata": {},
   "outputs": [
    {
     "name": "stdout",
     "output_type": "stream",
     "text": [
      "foo [3, 1]\n"
     ]
    }
   ],
   "source": [
    "x = xs.pop()     # Remove and return the last element of the list\n",
    "print(x, xs)"
   ]
  },
  {
   "cell_type": "code",
   "execution_count": 12,
   "id": "9921e013-93d4-4a0b-b699-b84f3a622df3",
   "metadata": {},
   "outputs": [
    {
     "name": "stdout",
     "output_type": "stream",
     "text": [
      "---------list type---------\n",
      "nums = [0, 1, 2, 3, 4]\n",
      "type(nums): <class 'list'>\n",
      "Slice nums[2:4] = [2, 3]\n",
      "Slice nums[2:] = [2, 3, 4]\n",
      "Slice nums[:2] = [0, 1]\n",
      "Slice nums[:] = [0, 1, 2, 3, 4]\n",
      "Slice nums[:-1] = [0, 1, 2, 3]\n",
      "Slice nums[0:4:2] = [0, 2]\n",
      "After assigning nums[2:4] = [8, 9], nums = [0, 1, 8, 9, 4]\n",
      "----------------------------\n"
     ]
    }
   ],
   "source": [
    "###### list type ######\n",
    "print('---------list type---------')\n",
    "nums = list(range(5))    # range is a built-in function that creates a list of integers\n",
    "print(\"nums =\", nums)\n",
    "print(\"type(nums):\", type(nums))\n",
    "print(\"Slice nums[2:4] =\", nums[2:4])    # Get a slice from index 2 to 4 (exclusive)\n",
    "print(\"Slice nums[2:] =\", nums[2:])      # Get a slice from index 2 to the end\n",
    "print(\"Slice nums[:2] =\", nums[:2])      # Get a slice from the start to index 2 (exclusive)\n",
    "print(\"Slice nums[:] =\", nums[:])        # Get a slice of the whole list\n",
    "print(\"Slice nums[:-1] =\", nums[:-1])    # Slice indices can be negative\n",
    "print(\"Slice nums[0:4:2] =\", nums[0:4:2])  # Get a slice from index 0 to end:, step=2\n",
    "nums[2:4] = [8, 9]  # Assign a new sublist to a slice\n",
    "print(\"After assigning nums[2:4] = [8, 9], nums =\", nums)\n",
    "print('----------------------------')"
   ]
  },
  {
   "cell_type": "code",
   "execution_count": 13,
   "id": "f85cced8-d6ab-45e0-b9dc-f8e02823fde5",
   "metadata": {},
   "outputs": [
    {
     "name": "stdout",
     "output_type": "stream",
     "text": [
      "#1: cat\n",
      "#2: dog\n",
      "#3: monkey\n"
     ]
    }
   ],
   "source": [
    "animals = ['cat', 'dog', 'monkey']\n",
    "for idx, animal in enumerate(animals):\n",
    "    print('#{}: {}'.format(idx + 1, animal))"
   ]
  },
  {
   "cell_type": "markdown",
   "id": "7a4b6f06-d505-42c9-af0b-fb67afd6e9f9",
   "metadata": {},
   "source": [
    "### List Compression"
   ]
  },
  {
   "cell_type": "code",
   "execution_count": 15,
   "id": "fec9e602-696d-4173-9e55-e7fd21aeaace",
   "metadata": {},
   "outputs": [
    {
     "name": "stdout",
     "output_type": "stream",
     "text": [
      "---------list comprehension---------\n",
      "Original list (nums) = [0, 1, 2, 3, 4]\n",
      "Squares using loop = [0, 1, 4, 9, 16]\n",
      "Squares using list comprehension = [0, 1, 4, 9, 16]\n",
      "Squares with condition (x ** 2 if x is even, else x - 1) = [0, 0, 4, 2, 16]\n",
      "Squares for even numbers only = [0, 4, 16]\n",
      "----------------------------\n"
     ]
    }
   ],
   "source": [
    "###### list comprehension ######\n",
    "print('---------list comprehension---------')\n",
    "\n",
    "# Using a loop to compute squares\n",
    "nums = [0, 1, 2, 3, 4]\n",
    "squares = []\n",
    "for x in nums:\n",
    "    squares.append(x ** 2)\n",
    "print(\"Original list (nums) =\", nums)\n",
    "print(\"Squares using loop =\", squares)\n",
    "\n",
    "# Using list comprehension to compute squares\n",
    "squares = [x ** 2 for x in nums]\n",
    "print(\"Squares using list comprehension =\", squares)\n",
    "\n",
    "# List comprehension with a conditional expression\n",
    "squares = [x ** 2 if x % 2 == 0 else x - 1 for x in nums]\n",
    "print(\"Squares with condition (x ** 2 if x is even, else x - 1) =\", squares)\n",
    "\n",
    "# # List comprehension with a conditional expression\n",
    "# squares = [x ** 2 if x % 2 == 0 for x in nums]\n",
    "# print(\"Squares with condition (x ** 2 if x is even, else x - 1) =\", squares)\n",
    "\n",
    "# List comprehension with filtering condition\n",
    "squares = [x ** 2 for x in nums if x % 2 == 0]\n",
    "print(\"Squares for even numbers only =\", squares)\n",
    "\n",
    "print('----------------------------')\n"
   ]
  },
  {
   "cell_type": "markdown",
   "id": "8670c2f9-2fa8-4be7-8cc7-a5d46926f623",
   "metadata": {},
   "source": [
    "### Dictionary\n",
    "\n",
    "A dictionary stores (key, value) pairs, similar to a `Map` in Java or an object in Javascript. You can use it like this:"
   ]
  },
  {
   "cell_type": "code",
   "execution_count": 16,
   "id": "74af3917-d1a5-4ab2-9b2e-bdaae18d1f12",
   "metadata": {},
   "outputs": [
    {
     "name": "stdout",
     "output_type": "stream",
     "text": [
      "cute\n",
      "True\n"
     ]
    }
   ],
   "source": [
    "d = {'cat': 'cute', 'dog': 'furry'}  # Create a new dictionary with some data\n",
    "print(d['cat'])       # Get an entry from a dictionary; prints \"cute\"\n",
    "print('cat' in d)     # Check if a dictionary has a given key; prints \"True\""
   ]
  },
  {
   "cell_type": "code",
   "execution_count": 17,
   "id": "43f326c6-13dc-4d3d-9470-304eec6a98fa",
   "metadata": {},
   "outputs": [
    {
     "name": "stdout",
     "output_type": "stream",
     "text": [
      "wet\n"
     ]
    }
   ],
   "source": [
    "d['fish'] = 'wet'    # Set an entry in a dictionary\n",
    "print(d['fish'])      # Prints \"wet\""
   ]
  },
  {
   "cell_type": "code",
   "execution_count": 18,
   "id": "c64674c4-32b0-4452-b62a-9da365011a81",
   "metadata": {},
   "outputs": [
    {
     "ename": "KeyError",
     "evalue": "'monkey'",
     "output_type": "error",
     "traceback": [
      "\u001b[0;31m---------------------------------------------------------------------------\u001b[0m",
      "\u001b[0;31mKeyError\u001b[0m                                  Traceback (most recent call last)",
      "Cell \u001b[0;32mIn[18], line 1\u001b[0m\n\u001b[0;32m----> 1\u001b[0m \u001b[38;5;28mprint\u001b[39m(\u001b[43md\u001b[49m\u001b[43m[\u001b[49m\u001b[38;5;124;43m'\u001b[39;49m\u001b[38;5;124;43mmonkey\u001b[39;49m\u001b[38;5;124;43m'\u001b[39;49m\u001b[43m]\u001b[49m)  \u001b[38;5;66;03m# KeyError: 'monkey' not a key of d\u001b[39;00m\n",
      "\u001b[0;31mKeyError\u001b[0m: 'monkey'"
     ]
    }
   ],
   "source": [
    "print(d['monkey'])  # KeyError: 'monkey' not a key of d"
   ]
  },
  {
   "cell_type": "code",
   "execution_count": 19,
   "id": "714e8059-21b8-4807-b85f-1f168159fc4d",
   "metadata": {},
   "outputs": [
    {
     "name": "stdout",
     "output_type": "stream",
     "text": [
      "N/A\n",
      "wet\n"
     ]
    }
   ],
   "source": [
    "print(d.get('monkey', 'N/A'))  # Get an element with a default; prints \"N/A\"\n",
    "print(d.get('fish', 'N/A'))    # Get an element with a default; prints \"wet\""
   ]
  },
  {
   "cell_type": "code",
   "execution_count": 20,
   "id": "55971033-c834-4a2c-90ea-820bab7b50b6",
   "metadata": {},
   "outputs": [
    {
     "name": "stdout",
     "output_type": "stream",
     "text": [
      "N/A\n"
     ]
    }
   ],
   "source": [
    "del d['fish']        # Remove an element from a dictionary\n",
    "print(d.get('fish', 'N/A')) # \"fish\" is no longer a key; prints \"N/A\""
   ]
  },
  {
   "cell_type": "markdown",
   "id": "a96e3a6f-7aad-4c81-9290-a077571a1a33",
   "metadata": {},
   "source": [
    "Iteration over the keys in a dictionary"
   ]
  },
  {
   "cell_type": "code",
   "execution_count": 21,
   "id": "6d81c950-7f28-49b5-a90f-ec6f1b390d52",
   "metadata": {},
   "outputs": [
    {
     "name": "stdout",
     "output_type": "stream",
     "text": [
      "A person has 2 legs\n",
      "A cat has 4 legs\n",
      "A spider has 8 legs\n"
     ]
    }
   ],
   "source": [
    "d = {'person': 2, 'cat': 4, 'spider': 8}\n",
    "for animal, legs in d.items():\n",
    "    print('A {} has {} legs'.format(animal, legs))"
   ]
  },
  {
   "cell_type": "markdown",
   "id": "28bd6259-c7ce-49e6-84f7-5a84407664e3",
   "metadata": {},
   "source": [
    "#### Dict Compression"
   ]
  },
  {
   "cell_type": "code",
   "execution_count": 22,
   "id": "5affccf0-1455-4e6f-ba0e-3a20ee2ab138",
   "metadata": {},
   "outputs": [
    {
     "name": "stdout",
     "output_type": "stream",
     "text": [
      "{0: 0, 2: 4, 4: 16}\n"
     ]
    }
   ],
   "source": [
    "nums = [0, 1, 2, 3, 4]\n",
    "even_num_to_square = {x: x ** 2 for x in nums if x % 2 == 0}\n",
    "print(even_num_to_square)"
   ]
  },
  {
   "cell_type": "markdown",
   "id": "8244cb71-7153-4ffa-b986-05dc863fe1e3",
   "metadata": {},
   "source": [
    "### Function"
   ]
  },
  {
   "cell_type": "markdown",
   "id": "4eb506ce-3699-4cac-a59f-04ca49ec87bb",
   "metadata": {},
   "source": [
    "Python functions are defined using the `def` keyword. For example:"
   ]
  },
  {
   "cell_type": "code",
   "execution_count": 23,
   "id": "b177a5ca-570c-4a7f-86d9-07492b6f37be",
   "metadata": {},
   "outputs": [
    {
     "name": "stdout",
     "output_type": "stream",
     "text": [
      "negative\n",
      "zero\n",
      "positive\n"
     ]
    }
   ],
   "source": [
    "def sign(x):\n",
    "    if x > 0:\n",
    "        return 'positive'\n",
    "    elif x < 0:\n",
    "        return 'negative'\n",
    "    else:\n",
    "        return 'zero'\n",
    "\n",
    "for x in [-1, 0, 1]:\n",
    "    print(sign(x))"
   ]
  },
  {
   "cell_type": "markdown",
   "id": "a0b1bb09-4688-4e90-9511-082cdc0cabdb",
   "metadata": {},
   "source": [
    "We will often define functions to take optional keyword arguments, like this:"
   ]
  },
  {
   "cell_type": "code",
   "execution_count": 86,
   "id": "7e56e9f2-1fab-4e2f-b28f-849b69178180",
   "metadata": {},
   "outputs": [
    {
     "name": "stdout",
     "output_type": "stream",
     "text": [
      "Hello, Bob!\n",
      "() {}\n",
      "HELLO, FRED\n",
      "() {}\n",
      "HELLO, EVE\n",
      "('yes', 'high') {'color': 'Red'}\n",
      "HELLO, EVE\n",
      "('yes', 'high') {'color': 'Red'}\n"
     ]
    }
   ],
   "source": [
    "def hello(name, loud=False, *args, **kwargs):\n",
    "    if loud:\n",
    "        print('HELLO, {}'.format(name.upper()))\n",
    "    else:\n",
    "        print('Hello, {}!'.format(name))\n",
    "    print(args, kwargs)\n",
    "\n",
    "hello('Bob')\n",
    "hello('Fred', loud=True)\n",
    "hello('Eve', True, 'yes', 'high', color='Red')\n",
    "hello('Eve', True, 'yes', 'high', **dict(color='Red'))"
   ]
  },
  {
   "cell_type": "markdown",
   "id": "f542cc2c-2e81-4268-a542-81c6874f5fe1",
   "metadata": {},
   "source": [
    "### Class"
   ]
  },
  {
   "cell_type": "code",
   "execution_count": 24,
   "id": "3b0c3ceb-3f56-41b6-b0ff-48105633c90a",
   "metadata": {},
   "outputs": [
    {
     "name": "stdout",
     "output_type": "stream",
     "text": [
      "Hello, Fred!\n",
      "HELLO, FRED\n"
     ]
    }
   ],
   "source": [
    "class Greeter(object):\n",
    "\n",
    "    # Constructor\n",
    "    def __init__(self, name):\n",
    "        self.name = name  # Create an instance variable\n",
    "\n",
    "    # Instance method\n",
    "    def greet(self, loud=False):\n",
    "        if loud:\n",
    "          print('HELLO, {}'.format(self.name.upper()))\n",
    "        else:\n",
    "          print(f'Hello, {self.name}!')\n",
    "\n",
    "g = Greeter('Fred')  # Construct an instance of the Greeter class\n",
    "g.greet()            # Call an instance method; prints \"Hello, Fred\"\n",
    "g.greet(loud=True)   # Call an instance method; prints \"HELLO, FRED!\""
   ]
  },
  {
   "cell_type": "markdown",
   "id": "58635f18-74c3-4571-9248-d2a60f42e1c7",
   "metadata": {},
   "source": [
    "# NumPy Tutorial\n",
    "\n",
    "Numpy is the core library for scientific computing in Python. It provides a high-performance multidimensional array object, and tools for working with these arrays. If you are already familiar with MATLAB, you might find this [tutorial](http://wiki.scipy.org/NumPy_for_Matlab_Users) useful to get started with Numpy."
   ]
  },
  {
   "cell_type": "code",
   "execution_count": 26,
   "id": "aae7b60b-ae11-4e16-a846-2006d7e31fe9",
   "metadata": {},
   "outputs": [],
   "source": [
    "import numpy as np"
   ]
  },
  {
   "cell_type": "markdown",
   "id": "35db8c25-9c4e-4b3d-820c-1d2055b85e54",
   "metadata": {},
   "source": [
    "## Array\n",
    "\n",
    "A numpy array is a grid of values, all of the same type, and is indexed by a tuple of nonnegative integers. The number of dimensions is the rank of the array; the shape of an array is a tuple of integers giving the size of the array along each dimension."
   ]
  },
  {
   "cell_type": "code",
   "execution_count": 28,
   "id": "a55492ef-698c-4fc5-aae9-54f679918798",
   "metadata": {},
   "outputs": [
    {
     "name": "stdout",
     "output_type": "stream",
     "text": [
      "<class 'numpy.ndarray'> (3,) 1 2 3\n",
      "[5 2 3]\n",
      "[[1 2 3]\n",
      " [4 5 6]]\n",
      "(2, 3)\n",
      "1 2 4\n",
      "[[0. 0.]\n",
      " [0. 0.]]\n"
     ]
    }
   ],
   "source": [
    "a = np.array([1, 2, 3])  # Create a rank 1 array\n",
    "print(type(a), a.shape, a[0], a[1], a[2])\n",
    "a[0] = 5                 # Change an element of the array\n",
    "print(a)\n",
    "\n",
    "b = np.array([[1,2,3],[4,5,6]])   # Create a rank 2 array\n",
    "print(b)\n",
    "\n",
    "print(b.shape)\n",
    "print(b[0, 0], b[0, 1], b[1, 0])\n",
    "\n",
    "a = np.zeros((2,2))  # Create an array of all zeros\n",
    "print(a)"
   ]
  },
  {
   "cell_type": "markdown",
   "id": "bc13c321-6c78-48f0-8606-2212249be833",
   "metadata": {},
   "source": [
    "Numpy also provides many functions to create arrays:"
   ]
  },
  {
   "cell_type": "code",
   "execution_count": 29,
   "id": "3fec9d3f-62e2-467a-9677-a79acff3eca3",
   "metadata": {},
   "outputs": [
    {
     "name": "stdout",
     "output_type": "stream",
     "text": [
      "[[0. 0.]\n",
      " [0. 0.]] (2, 2)\n",
      "[[1. 1.]] (1, 2)\n",
      "[[7 7]\n",
      " [7 7]] (2, 2)\n",
      "[[0.92757864 0.70984588]\n",
      " [0.71139778 0.56723399]]\n"
     ]
    }
   ],
   "source": [
    "a = np.zeros((2,2))  # Create an array of all zeros\n",
    "print(a, a.shape)\n",
    "b = np.ones((1,2))   # Create an array of all ones\n",
    "print(b, b.shape)\n",
    "c = np.full((2,2), 7) # Create a constant array\n",
    "print(c, c.shape)\n",
    "e = np.random.random((2,2)) # Create an array filled with random values\n",
    "print(e)"
   ]
  },
  {
   "cell_type": "markdown",
   "id": "ff0cf5c7-e7f8-4e8a-aac7-250f9e95f914",
   "metadata": {},
   "source": [
    "## Array Indexing\n",
    "\n",
    "Slicing: Similar to Python lists, numpy arrays can be sliced. Since arrays may be multidimensional, you must specify a slice for each dimension of the array:"
   ]
  },
  {
   "cell_type": "code",
   "execution_count": 30,
   "id": "d6126304-5a0b-48f7-be01-2a5e8a6725f8",
   "metadata": {},
   "outputs": [
    {
     "name": "stdout",
     "output_type": "stream",
     "text": [
      "[[ 1  2  3  4]\n",
      " [ 5  6  7  8]\n",
      " [ 9 10 11 12]]\n",
      "[11  2]\n",
      "[[2 3 4]\n",
      " [6 7 8]]\n"
     ]
    }
   ],
   "source": [
    "import numpy as np\n",
    "\n",
    "# Create the following rank 2 array with shape (3, 4)\n",
    "# [[ 1  2  3  4]\n",
    "#  [ 5  6  7  8]\n",
    "#  [ 9 10 11 12]]\n",
    "a = np.array([[1,2,3,4], [5,6,7,8], [9,10,11,12]])\n",
    "print(a)\n",
    "print(a[[2, 0], [2, 1]]) # get the data in (2, 2) and (0, 1)\n",
    "# Use slicing to pull out the subarray consisting of the first 2 rows\n",
    "# and columns 1 and 2; b is the following array of shape (2, 2):\n",
    "# [[2 3]\n",
    "#  [6 7]]\n",
    "b = a[:2, 1:4]\n",
    "print(b)"
   ]
  },
  {
   "cell_type": "code",
   "execution_count": 114,
   "id": "d3ef3242-ca5c-467e-a1fa-7ecb70722bc6",
   "metadata": {},
   "outputs": [
    {
     "name": "stdout",
     "output_type": "stream",
     "text": [
      "2\n",
      "77\n"
     ]
    }
   ],
   "source": [
    "print(a[0, 1])\n",
    "b[0, 0] = 77    # b[0, 0] is the same piece of data as a[0, 1]\n",
    "print(a[0, 1]) "
   ]
  },
  {
   "cell_type": "markdown",
   "id": "6944ece9-0cf9-4684-b97c-db0e988befae",
   "metadata": {},
   "source": [
    "\n",
    "\n",
    "Numpy provides many useful functions for performing computations on arrays; one of the most useful is `sum`:"
   ]
  },
  {
   "cell_type": "code",
   "execution_count": 31,
   "id": "fb02bbdc-a559-4047-becc-0a96ebe7d0a5",
   "metadata": {},
   "outputs": [
    {
     "name": "stdout",
     "output_type": "stream",
     "text": [
      "---------NumPy array---------\n",
      "Array (x):\n",
      " [[1 2 3]\n",
      " [3 4 5]]\n",
      "Shape of x: (2, 3)\n",
      "Sum of all elements (np.sum(x)) = 18\n",
      "Sum of each column (np.sum(x, axis=0)) = [4 6 8]\n",
      "Sum of each row (np.sum(x, axis=1)) = [ 6 12]\n",
      "Actual shape of (np.sum(x, axis=1)) = (2, 1)\n",
      "----------------------------\n"
     ]
    }
   ],
   "source": [
    "###### NumPy array ######\n",
    "print('---------NumPy array---------')\n",
    "\n",
    "import numpy as np\n",
    "\n",
    "x = np.array([[1, 2, 3], [3, 4, 5]])\n",
    "print(\"Array (x):\\n\", x)\n",
    "print(\"Shape of x:\", x.shape)\n",
    "\n",
    "# Compute the sum of all elements\n",
    "total_sum = np.sum(x)\n",
    "print(\"Sum of all elements (np.sum(x)) =\", total_sum)\n",
    "\n",
    "# Compute the sum of each column\n",
    "col_sum = np.sum(x, axis=0)\n",
    "print(\"Sum of each column (np.sum(x, axis=0)) =\", col_sum)\n",
    "\n",
    "# Compute the sum of each row\n",
    "row_sum = np.sum(x, axis=1)\n",
    "print(\"Sum of each row (np.sum(x, axis=1)) =\", row_sum)\n",
    "row_sum = np.sum(x, axis=1, keepdims=True)\n",
    "print(\"Actual shape of (np.sum(x, axis=1)) =\", row_sum.shape)\n",
    "print('----------------------------')"
   ]
  },
  {
   "cell_type": "code",
   "execution_count": 32,
   "id": "89821d8c-e302-442b-aacf-5d7086acd2b8",
   "metadata": {},
   "outputs": [
    {
     "name": "stdout",
     "output_type": "stream",
     "text": [
      "(4, 5, 8, 2)\n",
      "(4, 1, 8, 2)\n"
     ]
    }
   ],
   "source": [
    "x = np.random.random((4, 5, 8, 2))\n",
    "print(x.shape)\n",
    "sum_x_1 = np.sum(x, axis=(1,2), keepdims=True)\n",
    "sum_x_1 = np.sum(x, axis=(1), keepdims=True)\n",
    "print(sum_x_1.shape)"
   ]
  },
  {
   "cell_type": "markdown",
   "id": "f825c5ab-d9bc-48d1-8672-a69eaf9b10f2",
   "metadata": {},
   "source": [
    "**How does the axis=i works in numpy?**\n",
    "\n",
    "suppose n dimensions $(d_1, d_2, \\cdots, d_n)$. At index $(x_1, x_2, \\cdots, x_n)$, the value is $f(x_1, x_2, \\cdots, x_n)$\n",
    "\n",
    "sum along the axis i using np.sum(x, dim=i-1), the output shape is $(d_1, \\cdots, d_{i-1}, 1, d_{i}, \\cdots, d_n)$\n",
    "\n",
    "For the summed arrays, at index $(x_1, x_2, \\cdots, x_n)$, The value is $\\text{sum\\_axis\\_i}(x) = \\sum_{x_i=0}^{d_i-1} f(x_1, \\cdots, x_{i-1}, x_i, x_{i+1}, \\cdots, x_n)$\n"
   ]
  },
  {
   "cell_type": "markdown",
   "id": "55397d82-1343-49c2-9f65-27dcc6c7ba16",
   "metadata": {},
   "source": [
    "transpose:"
   ]
  },
  {
   "cell_type": "code",
   "execution_count": 33,
   "id": "adc3a0cd-b103-46cf-862a-a029c5ce1aa0",
   "metadata": {},
   "outputs": [
    {
     "name": "stdout",
     "output_type": "stream",
     "text": [
      "[[1 2 3]]\n",
      "transpose\n",
      " [[1]\n",
      " [2]\n",
      " [3]]\n"
     ]
    }
   ],
   "source": [
    "v = np.array([[1,2,3]])\n",
    "print(v )\n",
    "print(\"transpose\\n\", v.T)"
   ]
  },
  {
   "cell_type": "markdown",
   "id": "558f3f6d-5d57-4259-8f3d-b4fb8b3a5b1a",
   "metadata": {},
   "source": [
    "### Broadcasting\n",
    "\n",
    "Broadcasting is a powerful mechanism that allows numpy to work with arrays of different shapes when performing arithmetic operations. Frequently we have a smaller array and a larger array, and we want to use the smaller array multiple times to perform some operation on the larger array.\n",
    "\n",
    "For example, suppose that we want to add a constant vector to each row of a matrix. We could do it like this:"
   ]
  },
  {
   "cell_type": "code",
   "execution_count": 34,
   "id": "5a62ba9c-4c58-43c1-a877-df4955eada48",
   "metadata": {},
   "outputs": [
    {
     "name": "stdout",
     "output_type": "stream",
     "text": [
      "[[ 2  2  4]\n",
      " [ 5  5  7]\n",
      " [ 8  8 10]\n",
      " [11 11 13]]\n"
     ]
    }
   ],
   "source": [
    "# We will add the vector v to each row of the matrix x,\n",
    "# storing the result in the matrix y\n",
    "x = np.array([[1,2,3], [4,5,6], [7,8,9], [10, 11, 12]])\n",
    "v = np.array([1, 0, 1])\n",
    "y = np.empty_like(x)   # Create an empty matrix with the same shape as x\n",
    "\n",
    "# Add the vector v to each row of the matrix x with an explicit loop\n",
    "for i in range(4):\n",
    "    y[i, :] = x[i, :] + v\n",
    "\n",
    "print(y)"
   ]
  },
  {
   "cell_type": "code",
   "execution_count": 155,
   "id": "44b0ab88-4625-4383-9756-14732794304e",
   "metadata": {},
   "outputs": [
    {
     "name": "stdout",
     "output_type": "stream",
     "text": [
      "[[1 0 1]\n",
      " [1 0 1]\n",
      " [1 0 1]\n",
      " [1 0 1]]\n"
     ]
    }
   ],
   "source": [
    "vv = np.tile(v, (4, 1))  # Stack 4 copies of v on top of each other\n",
    "print(vv)                # Prints \"[[1 0 1]\n",
    "                         #          [1 0 1]\n",
    "                         #          [1 0 1]\n",
    "                         #          [1 0 1]]\""
   ]
  },
  {
   "cell_type": "code",
   "execution_count": 156,
   "id": "d2abcec5-db63-4de3-b364-3483cd519975",
   "metadata": {},
   "outputs": [
    {
     "name": "stdout",
     "output_type": "stream",
     "text": [
      "[[ 2  2  4]\n",
      " [ 5  5  7]\n",
      " [ 8  8 10]\n",
      " [11 11 13]]\n"
     ]
    }
   ],
   "source": [
    "y = x + vv  # Add x and vv elementwise\n",
    "print(y)"
   ]
  },
  {
   "cell_type": "markdown",
   "id": "0a820e81-1abb-481a-b3be-1dbdbdc24ad4",
   "metadata": {},
   "source": [
    "Numpy broadcasting allows us to perform this computation without actually creating multiple copies of v. Consider this version, using broadcasting:"
   ]
  },
  {
   "cell_type": "code",
   "execution_count": 157,
   "id": "9454937d-2823-4938-8369-c744d0d19d4a",
   "metadata": {},
   "outputs": [
    {
     "name": "stdout",
     "output_type": "stream",
     "text": [
      "[[ 2  2  4]\n",
      " [ 5  5  7]\n",
      " [ 8  8 10]\n",
      " [11 11 13]]\n"
     ]
    }
   ],
   "source": [
    "import numpy as np\n",
    "\n",
    "# We will add the vector v to each row of the matrix x,\n",
    "# storing the result in the matrix y\n",
    "x = np.array([[1,2,3], [4,5,6], [7,8,9], [10, 11, 12]])\n",
    "v = np.array([1, 0, 1])\n",
    "y = x + v  # Add v to each row of x using broadcasting\n",
    "print(y)"
   ]
  },
  {
   "cell_type": "markdown",
   "id": "4ed7e421-c140-4739-8acb-d9b79be35496",
   "metadata": {},
   "source": [
    "The line `y = x + v` works even though `x` has shape `(4, 3)` and `v` has shape `(3,)` due to broadcasting; this line works as if v actually had shape `(4, 3)`, where each row was a copy of `v`, and the sum was performed elementwise.\n",
    "\n",
    "Broadcasting two arrays together follows these rules:\n",
    "\n",
    "1. If the arrays do not have the same rank, prepend the shape of the lower rank array with 1s until both shapes have the same length.\n",
    "2. The two arrays are said to be compatible in a dimension if they have the same size in the dimension, or if one of the arrays has size 1 in that dimension.\n",
    "3. The arrays can be broadcast together if they are compatible in all dimensions.\n",
    "4. After broadcasting, each array behaves as if it had shape equal to the elementwise maximum of shapes of the two input arrays.\n",
    "5. In any dimension where one array had size 1 and the other array had size greater than 1, the first array behaves as if it were copied along that dimension\n",
    "\n",
    "If this explanation does not make sense, try reading the explanation from the [documentation](http://docs.scipy.org/doc/numpy/user/basics.broadcasting.html) or this [explanation](http://wiki.scipy.org/EricsBroadcastingDoc).\n",
    "\n",
    "Functions that support broadcasting are known as universal functions. You can find the list of all universal functions in the [documentation](http://docs.scipy.org/doc/numpy/reference/ufuncs.html#available-ufuncs).\n",
    "\n",
    "Here are some applications of broadcasting:"
   ]
  },
  {
   "cell_type": "code",
   "execution_count": 36,
   "id": "38828d1e-ad63-4484-ac21-c26bfd24b049",
   "metadata": {},
   "outputs": [
    {
     "name": "stdout",
     "output_type": "stream",
     "text": [
      "[[ 4  5]\n",
      " [ 8 10]\n",
      " [12 15]]\n",
      "v: [1 2 3]\n",
      "tiled v: [[1 1]\n",
      " [2 2]\n",
      " [3 3]]\n",
      "w: [4 5]\n",
      "tiled w: [[4 5]\n",
      " [4 5]\n",
      " [4 5]]\n",
      "[[ True  True]\n",
      " [ True  True]\n",
      " [ True  True]]\n"
     ]
    }
   ],
   "source": [
    "# Compute outer product of vectors\n",
    "v = np.array([1,2,3])  # v has shape (3,)\n",
    "w = np.array([4,5])    # w has shape (2,)\n",
    "# To compute an outer product, we first reshape v to be a column\n",
    "# vector of shape (3, 1); we can then broadcast it against w to yield\n",
    "# an output of shape (3, 2), which is the outer product of v and w:\n",
    "\n",
    "# print(np.reshape(v, (1, 3)) * w)\n",
    "# (3, 1) * (2,)-->(3, 1) * (1, 2)--> (3, 2) * (1, 2)\n",
    "print(np.reshape(v, (3, 1)) * w)\n",
    "\n",
    "####### TODO ########\n",
    "# verify how broadcast solves the (3, 1) * (2,)\n",
    "#####################\n",
    "\n",
    "print('v:', v)\n",
    "tiled_v = np.tile(np.reshape(v, (3, 1)), (1, 2))\n",
    "print(\"tiled v:\", np.tile(np.reshape(v, (3, 1)), (1, 2)))\n",
    "print('w:', w)\n",
    "tiled_w = np.tile(np.reshape(w, (1, 2)), (3, 1))\n",
    "print('tiled w:', np.tile(np.reshape(w, (1, 2)), (3, 1)))\n",
    "tiled_vw = tiled_v * tiled_w\n",
    "print(tiled_vw == np.reshape(v, (3, 1)) * w)"
   ]
  },
  {
   "cell_type": "markdown",
   "id": "7e0a4900-b7e4-486d-8be0-cd039d7f633c",
   "metadata": {},
   "source": [
    "NumPy simple speedup"
   ]
  },
  {
   "cell_type": "code",
   "execution_count": 6,
   "id": "692c3769-1a56-4f75-9378-4203d5c45da4",
   "metadata": {},
   "outputs": [
    {
     "name": "stdout",
     "output_type": "stream",
     "text": [
      "89.1 µs ± 2.67 µs per loop (mean ± std. dev. of 7 runs, 10,000 loops each)\n",
      "151 µs ± 5.24 µs per loop (mean ± std. dev. of 7 runs, 10,000 loops each)\n",
      "3.72 ms ± 126 µs per loop (mean ± std. dev. of 7 runs, 100 loops each)\n"
     ]
    }
   ],
   "source": [
    "import numpy as np\n",
    "a = np.random.rand(500, 500, 500)\n",
    "\n",
    "%timeit a[0,:,:].sum()\n",
    " \n",
    "%timeit a[:,0,:].sum()\n",
    "\n",
    "%timeit a[:,:,0].sum()\n"
   ]
  },
  {
   "cell_type": "markdown",
   "id": "91a41cb6-3721-4923-a4aa-2bc44c686d5a",
   "metadata": {},
   "source": [
    "\n",
    "understand how the data are saved: https://blog.csdn.net/Nianzu_Ethan_Zheng/article/details/79038212"
   ]
  },
  {
   "cell_type": "markdown",
   "id": "a83ad3b2-4696-4539-bd9a-d8bb91583873",
   "metadata": {},
   "source": [
    "timeit can test small runtime of simple codes"
   ]
  },
  {
   "cell_type": "markdown",
   "id": "8cf17012-174b-40a6-abcd-a41691499243",
   "metadata": {},
   "source": [
    "# How to Read Images?"
   ]
  },
  {
   "cell_type": "code",
   "execution_count": 73,
   "id": "4484dd7e-2b49-44fc-bef6-08ffa03884f0",
   "metadata": {},
   "outputs": [
    {
     "name": "stdout",
     "output_type": "stream",
     "text": [
      "PIL read time: 0.19993732770284017 seconds\n",
      "OpenCV read time: 0.15952688852945965 seconds\n",
      "scikit-image read time: 0.17877917289733886 seconds\n",
      "matplotlib read time: 0.2584741989771525 seconds\n",
      "Concurrent PIL read time: 0.15914 seconds\n",
      "Concurrent OpenCV read time: 0.14416 seconds\n",
      "Concurrent scikit-image read time: 0.16841 seconds\n",
      "Concurrent matplotlib read time: 0.22532 seconds\n"
     ]
    }
   ],
   "source": [
    "# comparison of PIL, OpenCV, Scikit-image, concurrent\n",
    "import time\n",
    "from concurrent.futures import ThreadPoolExecutor\n",
    "from PIL import Image as PILImage\n",
    "import cv2\n",
    "import matplotlib.pyplot as plt\n",
    "from skimage import io as skimage_io\n",
    "\n",
    "# 读取函数\n",
    "def read_with_pil(path):\n",
    "    start_time = time.time()\n",
    "    img = PILImage.open(path)\n",
    "    img.load()  # Ensure image is loaded\n",
    "    return time.time() - start_time\n",
    "\n",
    "def read_with_matplotlib(path):\n",
    "    start_time = time.time()\n",
    "    img = plt.imread(path)\n",
    "    return time.time() - start_time\n",
    "    \n",
    "def read_with_opencv(path):\n",
    "    start_time = time.time()\n",
    "    img = cv2.imread(path)\n",
    "    return time.time() - start_time\n",
    "\n",
    "def read_with_skimage(path):\n",
    "    start_time = time.time()\n",
    "    img = skimage_io.imread(path)\n",
    "    return time.time() - start_time\n",
    "\n",
    "# 运行并行任务\n",
    "def process_image(path):\n",
    "    results = []\n",
    "    max_workers = 2\n",
    "    with ThreadPoolExecutor(max_workers=max_workers) as executor:\n",
    "        futures1 = [\n",
    "            executor.submit(read_with_pil, path),\n",
    "        ]\n",
    "    results.append(futures1[0].result())\n",
    "    with ThreadPoolExecutor(max_workers=max_workers) as executor:\n",
    "        futures2 = [\n",
    "            executor.submit(read_with_opencv, path),\n",
    "        ]\n",
    "    results.append(futures2[0].result())\n",
    "    with ThreadPoolExecutor(max_workers=max_workers) as executor:\n",
    "        futures3 = [\n",
    "            executor.submit(read_with_skimage, path)\n",
    "        ]\n",
    "    results.append(futures3[0].result())\n",
    "    with ThreadPoolExecutor(max_workers=max_workers) as executor:\n",
    "        futures = [\n",
    "            executor.submit(read_with_matplotlib, path)\n",
    "        ]\n",
    "    results.append(futures[0].result())\n",
    "        # 获取执行结果\n",
    "    return results\n",
    "\n",
    "if __name__ == \"__main__\":\n",
    "    image_path = \"example.png\"\n",
    "    times = 30\n",
    "    avg_times = [0] * 8\n",
    "    for i in range(times):\n",
    "        avg_times[0] += read_with_pil(image_path)\n",
    "        avg_times[1] += read_with_opencv(image_path)\n",
    "        avg_times[2] += read_with_skimage(image_path)\n",
    "        avg_times[3] += read_with_matplotlib(image_path)\n",
    "        pil_time, opencv_time, skimage_time, matplotlib_time = process_image(image_path)\n",
    "\n",
    "        avg_times[4] += pil_time\n",
    "        avg_times[5] += opencv_time\n",
    "        avg_times[6] += skimage_time\n",
    "        avg_times[7] += matplotlib_time\n",
    "    for i in range(8):\n",
    "        avg_times[i] /= times\n",
    "    print(f\"PIL read time: {avg_times[0]} seconds\")\n",
    "    print(f\"OpenCV read time: {avg_times[1]} seconds\")\n",
    "    print(f\"scikit-image read time: {avg_times[2]} seconds\")\n",
    "    print(f\"matplotlib read time: {avg_times[3]} seconds\")\n",
    "    # 调用函数比较不同方法的读取速度\n",
    "\n",
    "    print(f\"Concurrent PIL read time: {avg_times[4]:.5f} seconds\")\n",
    "    print(f\"Concurrent OpenCV read time: {avg_times[5]:.5f} seconds\")\n",
    "    print(f\"Concurrent scikit-image read time: {avg_times[6]:.5f} seconds\")\n",
    "    print(f\"Concurrent matplotlib read time: {avg_times[7]:.5f} seconds\")"
   ]
  },
  {
   "cell_type": "code",
   "execution_count": null,
   "id": "59c268eb-9f0f-404a-8d90-4027a2794324",
   "metadata": {},
   "outputs": [],
   "source": []
  },
  {
   "cell_type": "code",
   "execution_count": null,
   "id": "0d908f3c-80c5-4b49-91b3-37f6dc2f0847",
   "metadata": {},
   "outputs": [],
   "source": []
  },
  {
   "cell_type": "code",
   "execution_count": null,
   "id": "115b16f5-2d00-42e5-b803-86f595acd257",
   "metadata": {},
   "outputs": [],
   "source": []
  },
  {
   "cell_type": "markdown",
   "id": "891bb404-f5a1-4d4a-82e9-0de195eb9212",
   "metadata": {},
   "source": [
    "# KMeans Simple Visualization"
   ]
  },
  {
   "cell_type": "code",
   "execution_count": 7,
   "id": "847ea30e-4f5f-4a48-8dcf-2c71ada666ae",
   "metadata": {},
   "outputs": [
    {
     "data": {
      "image/png": "[encoded data removed]",
      "text/plain": [
       "<Figure size 640x480 with 1 Axes>"
      ]
     },
     "metadata": {},
     "output_type": "display_data"
    }
   ],
   "source": [
    "import numpy as np\n",
    "from sklearn.datasets import make_blobs\n",
    "X,y = make_blobs(n_samples=100,centers=3,random_state=42)\n",
    "# 初始化质心\n",
    "def init_centroids(X,k):\n",
    "    centroids = X.copy()\n",
    "    np.random.shuffle(centroids)\n",
    "    return centroids[:k]\n",
    "k = 3#聚类数量\n",
    "centroids = init_centroids(X,k)\n",
    "# 更新质心\n",
    "def update_centroids(X,labels,k):\n",
    "    centroids = np.zeros((k,X.shape[1]))\n",
    "    for i in range(k):\n",
    "        centroids[i] = np.mean(X[labels == i],axis=0)\n",
    "    return centroids\n",
    "labels = np.zeros(X.shape[0])\n",
    "\n",
    "# 聚类\n",
    "def assign_clusters(X,centroids):\n",
    "    distances = np.sqrt(((X - centroids[:, np.newaxis])**2).sum(axis=2))\n",
    "    return np.argmin(distances,axis=0)\n",
    "labels = assign_clusters(X,centroids)\n",
    "\n",
    "import matplotlib.pyplot as plt\n",
    "\n",
    "#可视化\n",
    "def plot_clusters(X,labels,centroids):\n",
    "    colors = ['r','g','b']\n",
    "    for i in range(len(centroids)):\n",
    "        plt.scatter(X[labels == i][:, 0], X[labels == i][:,1], c=colors[i], label=f'Cluster {i+1}')\n",
    "        plt.scatter(centroids[i, 0], centroids[i,1], c='black',marker='x', s=100, label='Centroid')\n",
    "    plt.legend()\n",
    "    plt.show()\n",
    "plot_clusters(X,labels,centroids)"
   ]
  }
 ],
 "metadata": {
  "kernelspec": {
   "display_name": "Python 3 (ipykernel)",
   "language": "python",
   "name": "python3"
  },
  "language_info": {
   "codemirror_mode": {
    "name": "ipython",
    "version": 3
   },
   "file_extension": ".py",
   "mimetype": "text/x-python",
   "name": "python",
   "nbconvert_exporter": "python",
   "pygments_lexer": "ipython3",
   "version": "3.9.0"
  }
 },
 "nbformat": 4,
 "nbformat_minor": 5
}
